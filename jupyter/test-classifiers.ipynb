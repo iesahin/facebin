{
 "cells": [
  {
   "cell_type": "code",
   "execution_count": 1,
   "metadata": {},
   "outputs": [
    {
     "name": "stderr",
     "output_type": "stream",
     "text": [
      "Using TensorFlow backend.\n",
      "WARNING: Logging before flag parsing goes to stderr.\n",
      "I0310 21:28:55.048597 140620190619456 utils.py:103] Logging Initialized\n"
     ]
    }
   ],
   "source": [
    "import test_vgg as tv"
   ]
  },
  {
   "cell_type": "code",
   "execution_count": 3,
   "metadata": {},
   "outputs": [
    {
     "name": "stdout",
     "output_type": "stream",
     "text": [
      "<function knn at 0x7fe3f75c0268>({'neighbors': 1, 'weights': 'uniform', 'metric': 'euclidean'})\n",
      "Training Time:  6.492412805557251\n",
      "Scores:  0.8063282336578581\n",
      "Score Time:  104.40398144721985\n",
      "<function mlp at 0x7fe3f75c0400>({'hidden_layer_sizes': (300, 300, 300), 'activation': 'relu', 'solver': 'adam'})\n",
      "Training Time:  373.97151017189026\n",
      "Scores:  0.7409596662030598\n",
      "Score Time:  0.10064077377319336\n",
      "<function mlp at 0x7fe3f75c0400>({'hidden_layer_sizes': (500, 500), 'activation': 'tanh', 'solver': 'adam'})\n",
      "Training Time:  790.0764918327332\n",
      "Scores:  0.6578581363004172\n",
      "Score Time:  0.1674649715423584\n",
      "<function asgd at 0x7fe3f75c0378>({'average': True, 'tol': 1e-05, 'max_iter': 100, 'loss': 'modified_huber', 'learning_rate': 'optimal', 'class_weight': 'balanced'})\n",
      "Training Time:  632.382080078125\n",
      "Scores:  0.8320584144645341\n",
      "Score Time:  0.09457135200500488\n"
     ]
    }
   ],
   "source": [
    "tv.measure_performances()"
   ]
  },
  {
   "cell_type": "code",
   "execution_count": 4,
   "metadata": {},
   "outputs": [],
   "source": [
    "import sklearn.neighbors as skn\n",
    "import sklearn.svm as svm\n",
    "import sklearn.ensemble as ske\n",
    "import sklearn.linear_model as sklm\n",
    "import sklearn.neural_network as sknn\n",
    "import sklearn.gaussian_process as skgp\n",
    "from sklearn.model_selection import train_test_split, cross_val_score"
   ]
  },
  {
   "cell_type": "code",
   "execution_count": 5,
   "metadata": {},
   "outputs": [
    {
     "data": {
      "text/plain": [
       "KNeighborsClassifier(algorithm='auto', leaf_size=30, metric='euclidean',\n",
       "           metric_params=None, n_jobs=-1, n_neighbors=9, p=2,\n",
       "           weights='uniform')"
      ]
     },
     "execution_count": 5,
     "metadata": {},
     "output_type": "execute_result"
    }
   ],
   "source": [
    "knn = skn.KNeighborsClassifier(n_neighbors=9, weights='uniform', metric='euclidean', n_jobs=-1)\n",
    "knn.fit(features, person_ids)\n"
   ]
  },
  {
   "cell_type": "code",
   "execution_count": 6,
   "metadata": {},
   "outputs": [
    {
     "ename": "SyntaxError",
     "evalue": "'return' outside function (<ipython-input-6-60c0acc78e40>, line 2)",
     "output_type": "error",
     "traceback": [
      "\u001b[0;36m  File \u001b[0;32m\"<ipython-input-6-60c0acc78e40>\"\u001b[0;36m, line \u001b[0;32m2\u001b[0m\n\u001b[0;31m    return random_forest\u001b[0m\n\u001b[0m                        ^\u001b[0m\n\u001b[0;31mSyntaxError\u001b[0m\u001b[0;31m:\u001b[0m 'return' outside function\n"
     ]
    }
   ],
   "source": [
    "random_forest = ske.RandomForestClassifier(n_estimators=1000, max_depth=20, class_weight='balanced')\n",
    "return random_forest\n"
   ]
  },
  {
   "cell_type": "code",
   "execution_count": null,
   "metadata": {},
   "outputs": [],
   "source": [
    "asgd = sklm.SGDClassifier(\n",
    "            average=True,\n",
    "            tol=0.00001,\n",
    "            max_iter=100,\n",
    "            loss='modified_huber',\n",
    "            fit_intercept=True,\n",
    "            shuffle=True,\n",
    "            verbose=1,\n",
    "            n_jobs=-1,\n",
    "            learning_rate='optimal',\n",
    "            class_weight='balanced')\n"
   ]
  },
  {
   "cell_type": "code",
   "execution_count": null,
   "metadata": {},
   "outputs": [],
   "source": [
    "mlp = sknn.MLPClassifier(\n",
    "            hidden_layer_sizes=(1000, 500, 500, 500, 500),\n",
    "            activation='relu',\n",
    "            solver='adam')\n"
   ]
  },
  {
   "cell_type": "code",
   "execution_count": null,
   "metadata": {},
   "outputs": [],
   "source": [
    "kernel = 1.0 * skgp.kernels.RBF(1.0)\n",
    "gpc = skgp.GaussianProcessClassifier(kernel=kernel, multi_class='one_vs_rest')\n"
   ]
  }
 ],
 "metadata": {
  "kernelspec": {
   "display_name": "Python 3",
   "language": "python",
   "name": "python3"
  },
  "language_info": {
   "codemirror_mode": {
    "name": "ipython",
    "version": 3
   },
   "file_extension": ".py",
   "mimetype": "text/x-python",
   "name": "python",
   "nbconvert_exporter": "python",
   "pygments_lexer": "ipython3",
   "version": "3.6.7"
  },
  "widgets": {
   "state": {},
   "version": "1.1.1"
  }
 },
 "nbformat": 4,
 "nbformat_minor": 2
}
